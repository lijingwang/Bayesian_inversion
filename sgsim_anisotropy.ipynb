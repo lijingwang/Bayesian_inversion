{
  "nbformat": 4,
  "nbformat_minor": 0,
  "metadata": {
    "colab": {
      "name": "sgsim_anisotropy.ipynb",
      "provenance": [],
      "collapsed_sections": [],
      "authorship_tag": "ABX9TyNILHQBf1UOHloAc/qMgOCf",
      "include_colab_link": true
    },
    "kernelspec": {
      "name": "python3",
      "display_name": "Python 3"
    },
    "language_info": {
      "name": "python"
    }
  },
  "cells": [
    {
      "cell_type": "markdown",
      "metadata": {
        "id": "view-in-github",
        "colab_type": "text"
      },
      "source": [
        "<a href=\"https://colab.research.google.com/github/lijingwang/Bayesian_inversion/blob/main/sgsim_anisotropy.ipynb\" target=\"_parent\"><img src=\"https://colab.research.google.com/assets/colab-badge.svg\" alt=\"Open In Colab\"/></a>"
      ]
    },
    {
      "cell_type": "code",
      "metadata": {
        "id": "zfMhaeilcs_f"
      },
      "source": [
        "import numpy as np\n",
        "import matplotlib.pyplot as plt\n",
        "import matplotlib\n",
        "from numpy.fft import fftn, fftshift, ifftn\n",
        "from numpy.random import uniform as uniform\n",
        "from scipy.stats import norm\n",
        "from numpy.core.umath_tests import inner1d\n",
        "\n",
        "def unconditional_simu(v, mu, sill, rangeX, rangeY, rangeZ,  model, nX, nY, nZ):\n",
        "    '''\n",
        "    Unconditional Simulation with different variogram\n",
        "\n",
        "    Args: \n",
        "        nX, nY, nZ: (int) number of pixels you want for each dimension, if it is 2D, nZ = 1\n",
        "        mu:         (float) mean\n",
        "        sill:       (float) variance\n",
        "        rangeX, rangeY, rangeZ: (float) Range/correlation length for each dimension, >0\n",
        "        model:      (str) variogram model, Spherical/Gaussian\n",
        "    '''\n",
        "\n",
        "    xx, yy, zz = np.meshgrid(np.arange(nX), np.arange(nY), np.arange(nZ))\n",
        "    points = np.stack((xx.ravel(), yy.ravel(), zz.ravel())).T\n",
        "\n",
        "    centroid = points.mean(axis=0)\n",
        "    range_list = np.array([rangeX, rangeY, rangeZ])\n",
        "    h = np.linalg.norm((points - centroid) / range_list, axis = 1).reshape((nY, nX, nZ))\n",
        "\n",
        "    if model == 'Exponential':\n",
        "        c = np.exp(-3*h) * sill\n",
        "    elif model == 'Gaussian':\n",
        "        c = np.exp(-3*(h)**2) * sill\n",
        "\n",
        "    grid = fftn(fftshift(c)) / (nX * nY * nZ)\n",
        "    grid = np.abs(grid)\n",
        "    grid[0, 0, 0] = 0 # reference level\n",
        "    ran = np.sqrt(grid) * np.exp(1j * np.angle(fftn(np.swapaxes(v,0,1))))\n",
        "    grid = np.real(ifftn(ran * nX * nY * nZ))\n",
        "    std = np.std(grid)\n",
        "\n",
        "    if nX == 1 or nY == 1 or nZ == 1: \n",
        "        grid = np.squeeze(grid)\n",
        "    \n",
        "    grid = np.swapaxes(grid,0,1)\n",
        "        \n",
        "    return grid / std * np.sqrt(sill) + mu"
      ],
      "execution_count": null,
      "outputs": []
    }
  ]
}